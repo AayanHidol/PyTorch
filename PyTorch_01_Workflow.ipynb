{
  "nbformat": 4,
  "nbformat_minor": 0,
  "metadata": {
    "colab": {
      "provenance": [],
      "authorship_tag": "ABX9TyMaRgZuwSUEKpjAFir0P/DA",
      "include_colab_link": true
    },
    "kernelspec": {
      "name": "python3",
      "display_name": "Python 3"
    },
    "language_info": {
      "name": "python"
    }
  },
  "cells": [
    {
      "cell_type": "markdown",
      "metadata": {
        "id": "view-in-github",
        "colab_type": "text"
      },
      "source": [
        "<a href=\"https://colab.research.google.com/github/AayanHidol/PyTorch/blob/main/PyTorch_01_Workflow.ipynb\" target=\"_parent\"><img src=\"https://colab.research.google.com/assets/colab-badge.svg\" alt=\"Open In Colab\"/></a>"
      ]
    },
    {
      "cell_type": "markdown",
      "source": [
        "### Importing dependencies"
      ],
      "metadata": {
        "id": "VBAdMMcplajH"
      }
    },
    {
      "cell_type": "code",
      "source": [
        "import torch\n",
        "from torch import nn           # nn contains all of PyTorch's building blocks for neural networks\n",
        "import matplotlib.pyplot as plt\n",
        "\n",
        "from pathlib import Path # will be used to define where to save the model we will create"
      ],
      "metadata": {
        "id": "ir1B8uBzmltr"
      },
      "execution_count": null,
      "outputs": []
    },
    {
      "cell_type": "markdown",
      "source": [
        "## 1. Data (preparing and loading)"
      ],
      "metadata": {
        "id": "VvLkQ_uJt_1T"
      }
    },
    {
      "cell_type": "markdown",
      "source": [
        "### Creating fake data"
      ],
      "metadata": {
        "id": "bY-vwiQdoEGf"
      }
    },
    {
      "cell_type": "code",
      "source": [
        "# Create known parameters\n",
        "w = 0.7\n",
        "b = 0.3\n",
        "\n",
        "# Create data\n",
        "X = torch.arange(start=0, end=1, step=0.02).unsqueeze(dim=1)\n",
        "y = w * X + b\n",
        "\n",
        "X[:10], y[:10]\n"
      ],
      "metadata": {
        "colab": {
          "base_uri": "https://localhost:8080/"
        },
        "id": "b1V0cApXmlqY",
        "outputId": "3b8a70c5-f726-41c2-9dc4-03ddfd9af9a8"
      },
      "execution_count": null,
      "outputs": [
        {
          "output_type": "execute_result",
          "data": {
            "text/plain": [
              "(tensor([[0.0000],\n",
              "         [0.0200],\n",
              "         [0.0400],\n",
              "         [0.0600],\n",
              "         [0.0800],\n",
              "         [0.1000],\n",
              "         [0.1200],\n",
              "         [0.1400],\n",
              "         [0.1600],\n",
              "         [0.1800]]),\n",
              " tensor([[0.3000],\n",
              "         [0.3140],\n",
              "         [0.3280],\n",
              "         [0.3420],\n",
              "         [0.3560],\n",
              "         [0.3700],\n",
              "         [0.3840],\n",
              "         [0.3980],\n",
              "         [0.4120],\n",
              "         [0.4260]]))"
            ]
          },
          "metadata": {},
          "execution_count": 2
        }
      ]
    },
    {
      "cell_type": "code",
      "source": [
        "# Create train/ test split\n",
        "\n",
        "s = int(0.8 * len(X)) # 80% of data used for training set, 20% for testing set\n",
        "X_train, y_train = X[:s], y[:s]\n",
        "X_test, y_test = X[s:], y[s:]\n",
        "\n",
        "len(X_train), len(y_train), len(X_test), len(y_test)"
      ],
      "metadata": {
        "colab": {
          "base_uri": "https://localhost:8080/"
        },
        "id": "-AdnCdzbmlnS",
        "outputId": "7b807af4-9b3e-4534-cb71-7d37a77062a4"
      },
      "execution_count": null,
      "outputs": [
        {
          "output_type": "execute_result",
          "data": {
            "text/plain": [
              "(40, 40, 10, 10)"
            ]
          },
          "metadata": {},
          "execution_count": 3
        }
      ]
    },
    {
      "cell_type": "code",
      "source": [
        "def plot_preds(train_data=X_train,\n",
        "               train_labels=y_train,\n",
        "               test_data=X_test,\n",
        "               test_labels=y_test,\n",
        "               predictions=None):\n",
        "  plt.figure(figsize=(10, 7))\n",
        "\n",
        "  # Plot training data in blue\n",
        "  plt.scatter(train_data, train_labels, s=4, c=\"b\", label=\"Training data\")\n",
        "\n",
        "  # Plot test data in green\n",
        "  plt.scatter(test_data, test_labels, s=4, c=\"g\", label=\"Testing data\")\n",
        "\n",
        "  if predictions is not None:\n",
        "    # Plot predictions in red (predictions will be made by our model on `test_data`)\n",
        "    plt.scatter(test_data, predictions, s=4, c=\"r\", label=\"Predictions\")\n",
        "\n",
        "  # Show the legend\n",
        "  plt.legend(prop={\"size\": 14})"
      ],
      "metadata": {
        "id": "7Ist0rz0mljj"
      },
      "execution_count": null,
      "outputs": []
    },
    {
      "cell_type": "code",
      "source": [
        "plot_preds()"
      ],
      "metadata": {
        "colab": {
          "base_uri": "https://localhost:8080/",
          "height": 599
        },
        "id": "0E_Jnwu7mlgR",
        "outputId": "7370eb27-a4ab-4ff5-fc92-562e9fad9e8b"
      },
      "execution_count": null,
      "outputs": [
        {
          "output_type": "display_data",
          "data": {
            "text/plain": [
              "<Figure size 1000x700 with 1 Axes>"
            ],
            "image/png": "[encoded data removed]"
          },
          "metadata": {}
        }
      ]
    },
    {
      "cell_type": "markdown",
      "source": [
        "## 2. Build a model"
      ],
      "metadata": {
        "id": "RtNIKomlmldB"
      }
    },
    {
      "cell_type": "code",
      "source": [
        "# Create a Linear Regression model class\n",
        "class LinearRegressionModel(nn.Module): # <- almost everything in PyTorch inherits from nn.Module\n",
        "  def __init__(self):\n",
        "    super().__init__()\n",
        "\n",
        "    # start with random weights (these will get adjusted as the model learns)\n",
        "    self.weights = nn.Parameter(torch.randn(1,  # the size of the output desired by us\n",
        "                                            dtype=torch.float), # the dtype we want to get our weights in\n",
        "                                requires_grad=True) # can we update this value with gradient descent?\n",
        "\n",
        "    # start with random bias (this will get adjusted as the model learns)\n",
        "    self.bias = nn.Parameter(torch.randn(1, dtype=torch.float),\n",
        "                             requires_grad=True)\n",
        "\n",
        "\n",
        "  # Forward defines the computation in the model\n",
        "  def forward(self, x: torch.Tensor) -> torch.Tensor:\n",
        "    return self.weights * x + self.bias"
      ],
      "metadata": {
        "id": "lgdddrUbmlY9"
      },
      "execution_count": null,
      "outputs": []
    },
    {
      "cell_type": "markdown",
      "source": [
        "Let's break down the code for `LinearRegressionModel` in detail, step by step, to understand the underlying purpose and functionality of each line:\n",
        "\n",
        "#### 1. `class LinearRegressionModel(nn.Module):`\n",
        "\n",
        "* **Purpose**: Here, we're defining a class called `LinearRegressionModel` that inherits from `nn.Module`.\n",
        "* **Explanation**:\n",
        "\n",
        "  * `nn.Module` is the base class for all neural network modules in PyTorch. It provides common functionality for defining models, including support for automatic differentiation and easy access to parameters (weights and biases).\n",
        "  * Inheritance from `nn.Module` makes `LinearRegressionModel` a PyTorch model, allowing us to use all the built-in features like optimization, parameter updates, and more.\n",
        "\n",
        "#### 2. `def __init__(self):`\n",
        "\n",
        "* **Purpose**: This is the constructor method for the class. It’s automatically called when an instance of the class is created.\n",
        "* **Explanation**:\n",
        "\n",
        "  * The constructor initializes the weights and biases of the linear regression model. These are the parameters the model will learn during training.\n",
        "  * This method also calls `super().__init__()` to initialize the parent class (`nn.Module`), which is essential to properly integrate with PyTorch's infrastructure.\n",
        "\n",
        "#### 3. `super().__init__()`\n",
        "\n",
        "* **Purpose**: This line ensures that the parent class `nn.Module` is initialized.\n",
        "* **Explanation**:\n",
        "\n",
        "  * `super()` refers to the parent class (`nn.Module`), and calling `super().__init__()` ensures that the underlying functionality of `nn.Module` is properly set up for the `LinearRegressionModel` class.\n",
        "  * This includes preparing the model for gradient tracking, setting up parameter containers, and other PyTorch model functionalities.\n",
        "\n",
        "#### 4. `self.weights = nn.Parameter(torch.randn(1, dtype=torch.float), requires_grad=True)`\n",
        "\n",
        "* **Purpose**: This line initializes the weights for the model.\n",
        "* **Explanation**:\n",
        "\n",
        "  * `torch.randn(1, dtype=torch.float)` creates a tensor with one random number drawn from a normal distribution (mean 0, variance 1). It initializes the weight parameter randomly to start training.\n",
        "  * `nn.Parameter()` converts this tensor into a learnable parameter. In PyTorch, `nn.Parameter` is essentially a wrapper around a tensor that tells the model that this tensor should be optimized during training.\n",
        "  * `requires_grad=True` means that we want PyTorch to track the gradient of this tensor during backpropagation (i.e., updating this value with gradient descent).\n",
        "\n",
        "#### 5. `self.bias = nn.Parameter(torch.randn(1, dtype=torch.float), requires_grad=True)`\n",
        "\n",
        "* **Purpose**: This line initializes the bias term for the model.\n",
        "* **Explanation**:\n",
        "\n",
        "  * Just like `self.weights`, the bias is also initialized randomly with `torch.randn(1)`.\n",
        "  * `nn.Parameter()` wraps the bias tensor so that it can be learned during training.\n",
        "  * `requires_grad=True` ensures that the bias is updated through backpropagation as well.\n",
        "\n",
        "#### 6. `def forward(self, x: torch.Tensor) -> torch.Tensor:`\n",
        "\n",
        "* **Purpose**: This method defines the forward pass of the model (i.e., how the input `x` is transformed into an output).\n",
        "* **Explanation**:\n",
        "\n",
        "  * In PyTorch, the `forward` method specifies what happens when data is passed through the model. Here, it takes `x` (the input tensor) and returns the output tensor.\n",
        "  * The `x: torch.Tensor` part of the function signature indicates that `x` is a PyTorch tensor (likely containing input features like `x1, x2, ..., xn` in the case of multiple variables).\n",
        "  * The return type `-> torch.Tensor` indicates that the function will output a tensor as well.\n",
        "\n",
        "#### 7. `return self.weights * x + self.bias`\n",
        "\n",
        "* **Purpose**: This is the core of the linear regression computation, implementing the equation $y = m \\cdot x + b$.\n",
        "* **Explanation**:\n",
        "\n",
        "  * `self.weights * x`: This computes the weighted sum of the input features. Here `self.weights` represents the \"slope\" (or weight) of the linear equation, and multiplying it by `x` scales the input data by this weight.\n",
        "  * `+ self.bias`: The bias term is added to the result. This represents the \"y-intercept\" of the linear regression model (shifting the output along the y-axis).\n",
        "  * The final result is the predicted value (or output `y`) based on the input `x`, the learned weight (`self.weights`), and the learned bias (`self.bias`).\n",
        "\n",
        "#### Full Explanation of the Model\n",
        "\n",
        "In summary, the `LinearRegressionModel` class represents a simple linear regression model where the input `x` is transformed into a predicted output $y$ by applying a linear equation of the form:\n",
        "\n",
        "$$\n",
        "y = m \\cdot x + b\n",
        "$$\n",
        "\n",
        "* **Weights (`self.weights`)**: These are the model's learnable parameters that determine how strongly each input `x` influences the output. They're initialized randomly and updated during training.\n",
        "* **Bias (`self.bias`)**: This term shifts the linear equation vertically and is also a learnable parameter.\n",
        "* **Forward Pass**: The `forward()` method defines how the input `x` is transformed by these parameters to produce an output `y`.\n",
        "\n",
        "The model will learn the best values for `self.weights` and `self.bias` using gradient descent during training, aiming to minimize the loss between the predicted output and the actual target values.\n"
      ],
      "metadata": {
        "id": "Vw9v3BV41m46"
      }
    },
    {
      "cell_type": "markdown",
      "source": [
        "### Checking the contents of a PyTorch Model"
      ],
      "metadata": {
        "id": "Xcp3-1Ur1mmR"
      }
    },
    {
      "cell_type": "code",
      "source": [
        "# Set manual seed since nn.Parameter are randomly initialized\n",
        "torch.manual_seed(42)\n",
        "\n",
        "# Create an instance of the model (this is a subclass of nn.Module that contains nn.Parameter(s))\n",
        "model_0 = LinearRegressionModel()\n",
        "\n",
        "# Check the nn.Parameter(s) within the nn.Module subclass we created\n",
        "list(model_0.parameters())"
      ],
      "metadata": {
        "colab": {
          "base_uri": "https://localhost:8080/"
        },
        "id": "BYQHHcqGmlVp",
        "outputId": "a22e1d86-b375-409e-89b8-ffd73dfbdea2"
      },
      "execution_count": null,
      "outputs": [
        {
          "output_type": "execute_result",
          "data": {
            "text/plain": [
              "[Parameter containing:\n",
              " tensor([0.3367], requires_grad=True),\n",
              " Parameter containing:\n",
              " tensor([0.1288], requires_grad=True)]"
            ]
          },
          "metadata": {},
          "execution_count": 9
        }
      ]
    },
    {
      "cell_type": "code",
      "source": [
        "# Get the state (what the model contains)\n",
        "model_0.state_dict()"
      ],
      "metadata": {
        "colab": {
          "base_uri": "https://localhost:8080/"
        },
        "id": "qWo3cW4GmlSQ",
        "outputId": "9e083594-634f-400b-dce5-8af208992a4b"
      },
      "execution_count": null,
      "outputs": [
        {
          "output_type": "execute_result",
          "data": {
            "text/plain": [
              "OrderedDict([('weights', tensor([0.3367])), ('bias', tensor([0.1288]))])"
            ]
          },
          "metadata": {},
          "execution_count": 10
        }
      ]
    },
    {
      "cell_type": "markdown",
      "source": [
        "### Making predictions using `torch.inference_mode()`\n"
      ],
      "metadata": {
        "id": "_UhSlo3PmlOm"
      }
    },
    {
      "cell_type": "code",
      "source": [
        "# Make predictions with model\n",
        "with torch.inference_mode():\n",
        "  y_preds = model_0(X_test)\n",
        "\n",
        "# # Note: in older PyTorch code you might also see torch.no_grad()\n",
        "# with torch.no_grad():\n",
        "#   y_preds = model_0(X_test)"
      ],
      "metadata": {
        "id": "drpVkDdgmlLU"
      },
      "execution_count": null,
      "outputs": []
    },
    {
      "cell_type": "code",
      "source": [
        "# Check the predictions\n",
        "print(f\"Number of testing samples: {len(X_test)}\")\n",
        "print(f\"Number of predictions made: {len(y_preds)}\")\n",
        "print(f\"{y_preds==y_test}\")"
      ],
      "metadata": {
        "colab": {
          "base_uri": "https://localhost:8080/"
        },
        "id": "GoSVRAV8mlHv",
        "outputId": "45ae6889-52b3-4442-f505-95c61652fad7"
      },
      "execution_count": null,
      "outputs": [
        {
          "output_type": "stream",
          "name": "stdout",
          "text": [
            "Number of testing samples: 10\n",
            "Number of predictions made: 10\n",
            "tensor([[False],\n",
            "        [False],\n",
            "        [False],\n",
            "        [False],\n",
            "        [False],\n",
            "        [False],\n",
            "        [False],\n",
            "        [False],\n",
            "        [False],\n",
            "        [False]])\n"
          ]
        }
      ]
    },
    {
      "cell_type": "code",
      "source": [
        "plot_preds(predictions=y_preds)"
      ],
      "metadata": {
        "colab": {
          "base_uri": "https://localhost:8080/",
          "height": 599
        },
        "id": "BGwYeEcnmlEg",
        "outputId": "7d1f12e4-ded3-4b58-a54f-1d9188bd8787"
      },
      "execution_count": null,
      "outputs": [
        {
          "output_type": "display_data",
          "data": {
            "text/plain": [
              "<Figure size 1000x700 with 1 Axes>"
            ],
            "image/png": "[encoded data removed]"
          },
          "metadata": {}
        }
      ]
    },
    {
      "cell_type": "markdown",
      "source": [
        "## 3. Train model"
      ],
      "metadata": {
        "id": "eTMQCOyomlBF"
      }
    },
    {
      "cell_type": "code",
      "source": [
        "# Define the loss function\n",
        "loss_fn = nn.L1Loss() # MAE = L1Loss\n",
        "\n",
        "# Define the optimizer\n",
        "optimizer = torch.optim.SGD(params=model_0.parameters(),\n",
        "                            lr=0.01)"
      ],
      "metadata": {
        "id": "RVoWJ071mk-B"
      },
      "execution_count": null,
      "outputs": []
    },
    {
      "cell_type": "code",
      "source": [
        "y_pred.shape, y_test.shape"
      ],
      "metadata": {
        "colab": {
          "base_uri": "https://localhost:8080/"
        },
        "id": "bNf6ZgIIBH4s",
        "outputId": "fb3013bf-08f3-4012-8341-1450e68dbf1a"
      },
      "execution_count": null,
      "outputs": [
        {
          "output_type": "execute_result",
          "data": {
            "text/plain": [
              "(torch.Size([40, 1]), torch.Size([10, 1]))"
            ]
          },
          "metadata": {},
          "execution_count": 20
        }
      ]
    },
    {
      "cell_type": "code",
      "source": [],
      "metadata": {
        "id": "b3JzhTpyBMxO"
      },
      "execution_count": null,
      "outputs": []
    },
    {
      "cell_type": "code",
      "source": [
        "torch.manual_seed(42)\n",
        "\n",
        "epochs = 100\n",
        "\n",
        "# Create empty loss lists to track values\n",
        "train_loss_values = []\n",
        "test_loss_values = []\n",
        "epoch_count = []\n",
        "\n",
        "for epoch in range(epochs):\n",
        "\n",
        "  ### TRAINING\n",
        "\n",
        "  # Put model in training mode (this is the default state of a model)\n",
        "  model_0.train()\n",
        "\n",
        "  # 1. Forward pass on train data using the forward() method inside\n",
        "  y_pred = model_0(X_train)\n",
        "\n",
        "  # 2. Calculate the loss (how different our model's predictions are to the ground truth)\n",
        "  loss = loss_fn(y_pred, y_train)\n",
        "\n",
        "  # 3. Zero grad of the optimizer\n",
        "  optimizer.zero_grad()\n",
        "\n",
        "  # 4. Calculate the gradients of the loss wrt all the paremeters\n",
        "  loss.backward()\n",
        "\n",
        "  # 5. Make a small step, updating the weights a little bit in the direction of the steepest descent\n",
        "  optimizer.step()\n",
        "\n",
        "\n",
        "  ### TESTING\n",
        "  if epoch % 10 == 0:\n",
        "\n",
        "    # Put model in evaluation mode\n",
        "    model_0.eval()\n",
        "\n",
        "    # use torch.inference_mode() to turn of gradient tracking enabling us to do the forward pass faster\n",
        "    with torch.inference_mode():\n",
        "      # 1. Forward pass on test data\n",
        "      test_pred = model_0(X_test)\n",
        "\n",
        "      # 2. Calculate the loss on the test data\n",
        "      test_loss = loss_fn(test_pred, y_test)\n",
        "\n",
        "      # Print out what's happening\n",
        "      epoch_count.append(epoch)\n",
        "      train_loss_values.append(loss.detach().numpy())\n",
        "      test_loss_values.append(test_loss.detach().numpy())\n",
        "      print(f\"Epoch: {epoch} | MAE Train Loss: {loss} | MAE Test Loss: {test_loss}\")\n",
        "\n"
      ],
      "metadata": {
        "colab": {
          "base_uri": "https://localhost:8080/"
        },
        "id": "H5sTOZfEmk6z",
        "outputId": "f4e60a6a-ec19-418c-c038-b7ae0620a032"
      },
      "execution_count": null,
      "outputs": [
        {
          "output_type": "stream",
          "name": "stdout",
          "text": [
            "Epoch: 0 | MAE Train Loss: 0.024458957836031914 | MAE Test Loss: 0.05646304413676262\n",
            "Epoch: 10 | MAE Train Loss: 0.021020207554101944 | MAE Test Loss: 0.04819049686193466\n",
            "Epoch: 20 | MAE Train Loss: 0.01758546568453312 | MAE Test Loss: 0.04060482233762741\n",
            "Epoch: 30 | MAE Train Loss: 0.014155393466353416 | MAE Test Loss: 0.03233227878808975\n",
            "Epoch: 40 | MAE Train Loss: 0.010716589167714119 | MAE Test Loss: 0.024059748277068138\n",
            "Epoch: 50 | MAE Train Loss: 0.0072835334576666355 | MAE Test Loss: 0.016474086791276932\n",
            "Epoch: 60 | MAE Train Loss: 0.0038517764769494534 | MAE Test Loss: 0.008201557211577892\n",
            "Epoch: 70 | MAE Train Loss: 0.008932482451200485 | MAE Test Loss: 0.005023092031478882\n",
            "Epoch: 80 | MAE Train Loss: 0.008932482451200485 | MAE Test Loss: 0.005023092031478882\n",
            "Epoch: 90 | MAE Train Loss: 0.008932482451200485 | MAE Test Loss: 0.005023092031478882\n"
          ]
        }
      ]
    },
    {
      "cell_type": "markdown",
      "source": [
        "* `.detach()`: creates a new tensor that shares the same data as `loss`, but doesn't require gradient\n",
        "* `.numpy()` : converts the detached loss tensor into a NumPy array, which is easier for tasks like plotting, logging, or storing values for later analysis"
      ],
      "metadata": {
        "id": "cRZrqjGFBz81"
      }
    },
    {
      "cell_type": "code",
      "source": [
        "# Plot the loss curves\n",
        "plt.plot(epoch_count, train_loss_values, label=\"Train loss\")\n",
        "plt.plot(epoch_count, test_loss_values, label=\"Test loss\")\n",
        "plt.title(\"Training and Test Loss curves\")\n",
        "plt.ylabel(\"Loss\")\n",
        "plt.xlabel(\"Epochs\")\n",
        "plt.legend();"
      ],
      "metadata": {
        "colab": {
          "base_uri": "https://localhost:8080/",
          "height": 472
        },
        "id": "JmAfl0CDmk3b",
        "outputId": "cc88dcc0-20b2-4618-d914-0c19185f0774"
      },
      "execution_count": null,
      "outputs": [
        {
          "output_type": "display_data",
          "data": {
            "text/plain": [
              "<Figure size 640x480 with 1 Axes>"
            ],
            "image/png": "[encoded data removed]"
          },
          "metadata": {}
        }
      ]
    },
    {
      "cell_type": "code",
      "source": [
        "# Check the new state dict\n",
        "print(f\"New learned parameters: {model_0.state_dict()}\")"
      ],
      "metadata": {
        "colab": {
          "base_uri": "https://localhost:8080/"
        },
        "id": "5e7nK48Lmk0r",
        "outputId": "406e9a87-7440-48ee-e460-978aa4c1f107"
      },
      "execution_count": null,
      "outputs": [
        {
          "output_type": "stream",
          "name": "stdout",
          "text": [
            "New learned parameters: OrderedDict([('weights', tensor([0.6990])), ('bias', tensor([0.3093]))])\n"
          ]
        }
      ]
    },
    {
      "cell_type": "markdown",
      "source": [
        "## 4. Making predictions with a trained PyTorch model (inference)\n"
      ],
      "metadata": {
        "id": "oqq2BuTkmkXY"
      }
    },
    {
      "cell_type": "code",
      "source": [
        "# 1. Set the model in evaluation mode\n",
        "model_0.eval()\n",
        "\n",
        "# 2. Setup the inference mode context manager\n",
        "with torch.inference_mode():\n",
        "  # 3. Make sure the calculations are done with the model and data on the same device,\n",
        "  # in our case, we haven't setup device agnostic code yet so our data and model are on CPU by default\n",
        "  # model_0.to(device)\n",
        "  # X_test = X_test.to(device)\n",
        "  y_preds = model_0(X_test)\n",
        "\n",
        "y_preds-y_test\n"
      ],
      "metadata": {
        "colab": {
          "base_uri": "https://localhost:8080/"
        },
        "id": "2eHBh5yz80QN",
        "outputId": "2f84f8a9-fedf-4a4b-d869-2236f4fbe3c3"
      },
      "execution_count": null,
      "outputs": [
        {
          "output_type": "execute_result",
          "data": {
            "text/plain": [
              "tensor([[0.0085],\n",
              "        [0.0085],\n",
              "        [0.0085],\n",
              "        [0.0085],\n",
              "        [0.0085],\n",
              "        [0.0084],\n",
              "        [0.0084],\n",
              "        [0.0084],\n",
              "        [0.0084],\n",
              "        [0.0084]])"
            ]
          },
          "metadata": {},
          "execution_count": 32
        }
      ]
    },
    {
      "cell_type": "code",
      "source": [
        "plot_preds(predictions=y_preds)"
      ],
      "metadata": {
        "colab": {
          "base_uri": "https://localhost:8080/",
          "height": 599
        },
        "id": "YF5BSv1F80Nm",
        "outputId": "fa523379-5aa4-4ee5-96eb-712713e5a160"
      },
      "execution_count": null,
      "outputs": [
        {
          "output_type": "display_data",
          "data": {
            "text/plain": [
              "<Figure size 1000x700 with 1 Axes>"
            ],
            "image/png": "[encoded data removed]"
          },
          "metadata": {}
        }
      ]
    },
    {
      "cell_type": "markdown",
      "source": [
        "## 5. Saving and loading a PyTorch model"
      ],
      "metadata": {
        "id": "LdusOzDw80K_"
      }
    },
    {
      "cell_type": "code",
      "source": [
        "# 1. Create models directory\n",
        "MODEL_PATH = Path(\"models\")\n",
        "MODEL_PATH.mkdir(parents=True, exist_ok=True)\n",
        "\n",
        "# 2. Create model save path\n",
        "MODEL_NAME = \"01_pytorch_workflow_model_0.pth\"\n",
        "MODEL_SAVE_PATH = MODEL_PATH/MODEL_NAME\n",
        "\n",
        "# 3. Save the model state dict()\n",
        "print(f\"Saving model to: {MODEL_SAVE_PATH}\")\n",
        "torch.save(obj=model_0.state_dict(), # only saving the state_dict() only saves the models learned paraemters\n",
        "           f=MODEL_SAVE_PATH)\n",
        "print(f\"-\")\n",
        "print(f\"---\")\n",
        "print(f\"-----\")\n",
        "print(f\"-------\")\n",
        "print(f\"---------\")\n",
        "print(f\"Saved the model! Yohoo....\")"
      ],
      "metadata": {
        "colab": {
          "base_uri": "https://localhost:8080/"
        },
        "id": "0MHCAJ1w80H5",
        "outputId": "00bba59f-ec10-4319-8ad3-f3a0a81d0471"
      },
      "execution_count": null,
      "outputs": [
        {
          "output_type": "stream",
          "name": "stdout",
          "text": [
            "Saving model to: models/01_pytorch_workflow_model_0.pth\n",
            "-\n",
            "---\n",
            "-----\n",
            "-------\n",
            "---------\n",
            "Saved the model! Yohoo....\n"
          ]
        }
      ]
    },
    {
      "cell_type": "code",
      "source": [
        "# Check the saved file path\n",
        "!ls -l models/01_pytorch_workflow_model_0.pth"
      ],
      "metadata": {
        "colab": {
          "base_uri": "https://localhost:8080/"
        },
        "id": "6joIfPGN80FJ",
        "outputId": "cb06d86d-be8a-4477-fc01-5f29af6c5629"
      },
      "execution_count": null,
      "outputs": [
        {
          "output_type": "stream",
          "name": "stdout",
          "text": [
            "-rw-r--r-- 1 root root 1680 Jul 10 02:23 models/01_pytorch_workflow_model_0.pth\n"
          ]
        }
      ]
    },
    {
      "cell_type": "markdown",
      "source": [
        "### Loading a saved PyTorch model's `state_dict()`"
      ],
      "metadata": {
        "id": "Yl5GZ8-6uFB1"
      }
    },
    {
      "cell_type": "code",
      "source": [
        "# Instantiate a new instance of our model (this will be instantiated with random weights)\n",
        "loaded_model_0 = LinearRegressionModel()\n",
        "\n",
        "# Load the state_dict of our saved model (this will update the new instance of our model with trained weights)\n",
        "loaded_model_0.load_state_dict(torch.load(f=MODEL_SAVE_PATH))"
      ],
      "metadata": {
        "colab": {
          "base_uri": "https://localhost:8080/"
        },
        "id": "XJcvSlzPOnOw",
        "outputId": "44c36794-2b1b-446a-fe2f-1847044f390c"
      },
      "execution_count": null,
      "outputs": [
        {
          "output_type": "execute_result",
          "data": {
            "text/plain": [
              "<All keys matched successfully>"
            ]
          },
          "metadata": {},
          "execution_count": 41
        }
      ]
    },
    {
      "cell_type": "markdown",
      "source": [
        "Perform inference with our loaded model to check that things are working okay"
      ],
      "metadata": {
        "id": "ELP-a4H1PmOZ"
      }
    },
    {
      "cell_type": "code",
      "source": [
        "# 1. Put the loaded model into evaluation mode\n",
        "loaded_model_0.eval()\n",
        "\n",
        "# 2. Use the inference mode context manager to make predictions\n",
        "with torch.inference_mode():\n",
        "  loaded_model_preds = loaded_model_0(X_test)\n",
        "\n",
        "y_preds == loaded_model_preds"
      ],
      "metadata": {
        "colab": {
          "base_uri": "https://localhost:8080/"
        },
        "id": "gtM5vi_OPgHu",
        "outputId": "4d7d52f4-5ceb-40ee-cad3-434d0eaa0d61"
      },
      "execution_count": null,
      "outputs": [
        {
          "output_type": "execute_result",
          "data": {
            "text/plain": [
              "tensor([[True],\n",
              "        [True],\n",
              "        [True],\n",
              "        [True],\n",
              "        [True],\n",
              "        [True],\n",
              "        [True],\n",
              "        [True],\n",
              "        [True],\n",
              "        [True]])"
            ]
          },
          "metadata": {},
          "execution_count": 43
        }
      ]
    },
    {
      "cell_type": "markdown",
      "source": [
        "## 6. Putting it all together"
      ],
      "metadata": {
        "id": "kM19quf1P79L"
      }
    },
    {
      "cell_type": "code",
      "source": [
        "# Import dependencies\n",
        "import torch\n",
        "from torch import nn\n",
        "import matplotlib.pyplot as plt\n",
        "from pathlib import Path"
      ],
      "metadata": {
        "id": "xO_qau0KQh1i"
      },
      "execution_count": null,
      "outputs": []
    },
    {
      "cell_type": "code",
      "source": [
        "# Setup device agnostic code\n",
        "device = \"cuda\" if torch.cuda.is_available() else \"cpu\"\n",
        "print(f\"Using device: {device}\")"
      ],
      "metadata": {
        "colab": {
          "base_uri": "https://localhost:8080/"
        },
        "id": "Gyh7waULQhyJ",
        "outputId": "ac29b74c-93d7-41bd-cae6-559c8e380de9"
      },
      "execution_count": null,
      "outputs": [
        {
          "output_type": "stream",
          "name": "stdout",
          "text": [
            "Using device: cpu\n"
          ]
        }
      ]
    },
    {
      "cell_type": "markdown",
      "source": [
        "### 6.1 Data"
      ],
      "metadata": {
        "id": "iYGZHZ7BQhui"
      }
    },
    {
      "cell_type": "code",
      "source": [
        "w = -0.3\n",
        "b = 0.5\n",
        "\n",
        "X = torch.arange(start=0, end=1, step=0.02).unsqueeze(dim=1)\n",
        "y = w * X + b\n",
        "X[:10], y[:10]\n"
      ],
      "metadata": {
        "colab": {
          "base_uri": "https://localhost:8080/"
        },
        "id": "QLskMaw_QhsF",
        "outputId": "988ce595-7f7e-4c40-e494-85c96fba1f25"
      },
      "execution_count": null,
      "outputs": [
        {
          "output_type": "execute_result",
          "data": {
            "text/plain": [
              "(tensor([[0.0000],\n",
              "         [0.0200],\n",
              "         [0.0400],\n",
              "         [0.0600],\n",
              "         [0.0800],\n",
              "         [0.1000],\n",
              "         [0.1200],\n",
              "         [0.1400],\n",
              "         [0.1600],\n",
              "         [0.1800]]),\n",
              " tensor([[0.5000],\n",
              "         [0.4940],\n",
              "         [0.4880],\n",
              "         [0.4820],\n",
              "         [0.4760],\n",
              "         [0.4700],\n",
              "         [0.4640],\n",
              "         [0.4580],\n",
              "         [0.4520],\n",
              "         [0.4460]]))"
            ]
          },
          "metadata": {},
          "execution_count": 46
        }
      ]
    },
    {
      "cell_type": "code",
      "source": [
        "# Split data\n",
        "s = int(0.8 * len(X))\n",
        "\n",
        "X_train, y_train = X[:s], y[:s]\n",
        "X_test, y_test = X[s:], y[s:]\n",
        "\n"
      ],
      "metadata": {
        "id": "SJ-tP6sAQhpa"
      },
      "execution_count": null,
      "outputs": []
    },
    {
      "cell_type": "code",
      "source": [
        "plot_preds(X_train, y_train, X_test, y_test)"
      ],
      "metadata": {
        "colab": {
          "base_uri": "https://localhost:8080/",
          "height": 596
        },
        "id": "dquVoiqrQhmT",
        "outputId": "7f7a0273-4fc7-424a-d3e3-2cfb79b4e802"
      },
      "execution_count": null,
      "outputs": [
        {
          "output_type": "display_data",
          "data": {
            "text/plain": [
              "<Figure size 1000x700 with 1 Axes>"
            ],
            "image/png": "[encoded data removed]"
          },
          "metadata": {}
        }
      ]
    },
    {
      "cell_type": "markdown",
      "source": [
        "### 6.2 Building a PyTorch linear model"
      ],
      "metadata": {
        "id": "6f-GvKZdQhd9"
      }
    },
    {
      "cell_type": "code",
      "source": [
        "# Subclass nn.Module to make our model\n",
        "class LinearRegressionModelV2(nn.Module):\n",
        "  def __init__(self):\n",
        "    super().__init__()\n",
        "    # Use  `nn.Linear()` for creating the model parameters\n",
        "    self.linear_layer = nn.Linear(in_features=1,\n",
        "                                  out_features=1)\n",
        "\n",
        "  # Define the forward computation (input data x flows through nn.Linear())\n",
        "  def forward(self, x: torch.Tensor) -> torch.Tensor:\n",
        "    return self.linear_layer(x)\n",
        "\n",
        "# Set the manual seed when creating the model (this will ensure that the results from this notebook are reproducible)\n",
        "torch.manual_seed(42)\n",
        "model_1 = LinearRegressionModelV2()\n",
        "model_1, model_1.state_dict()"
      ],
      "metadata": {
        "colab": {
          "base_uri": "https://localhost:8080/"
        },
        "id": "Xw6EkPV_UP-D",
        "outputId": "13aa3cd0-94e8-4a0f-8d51-d28aeaeb1cef"
      },
      "execution_count": null,
      "outputs": [
        {
          "output_type": "execute_result",
          "data": {
            "text/plain": [
              "(LinearRegressionModelV2(\n",
              "   (linear_layer): Linear(in_features=1, out_features=1, bias=True)\n",
              " ),\n",
              " OrderedDict([('linear_layer.weight', tensor([[0.7645]])),\n",
              "              ('linear_layer.bias', tensor([0.8300]))]))"
            ]
          },
          "metadata": {},
          "execution_count": 49
        }
      ]
    },
    {
      "cell_type": "code",
      "source": [
        "# Check model device\n",
        "next(model_1.parameters()).device"
      ],
      "metadata": {
        "colab": {
          "base_uri": "https://localhost:8080/"
        },
        "id": "UR_Vl-W9UP7d",
        "outputId": "816fc6e9-1cbb-4199-af2b-8493f511341a"
      },
      "execution_count": null,
      "outputs": [
        {
          "output_type": "execute_result",
          "data": {
            "text/plain": [
              "device(type='cpu')"
            ]
          },
          "metadata": {},
          "execution_count": 50
        }
      ]
    },
    {
      "cell_type": "code",
      "source": [
        "# Set model to GPU if it's available, otherwise it'll default to CPU\n",
        "model_1.to(device)\n",
        "next(model_1.parameters()).device\n"
      ],
      "metadata": {
        "colab": {
          "base_uri": "https://localhost:8080/"
        },
        "id": "PWlgna7AUP4l",
        "outputId": "cf36e036-5076-4e59-bd2b-cda2b84adb02"
      },
      "execution_count": null,
      "outputs": [
        {
          "output_type": "execute_result",
          "data": {
            "text/plain": [
              "device(type='cpu')"
            ]
          },
          "metadata": {},
          "execution_count": 51
        }
      ]
    },
    {
      "cell_type": "markdown",
      "source": [
        "### 6.3 Training"
      ],
      "metadata": {
        "id": "10al9wKrUP1u"
      }
    },
    {
      "cell_type": "code",
      "source": [
        "# Pick loss function\n",
        "loss_fn = nn.L1Loss()\n",
        "\n",
        "# Pick the optimizer\n",
        "optimizer = torch.optim.SGD(params=model_1.parameters(),\n",
        "                            lr=0.01)"
      ],
      "metadata": {
        "id": "qEBMkscbUPy4"
      },
      "execution_count": null,
      "outputs": []
    },
    {
      "cell_type": "code",
      "source": [
        "torch.manual_seed(42)\n",
        "\n",
        "# Set the number of epochs\n",
        "epochs = 1000\n",
        "\n",
        "# Put data on the available device\n",
        "# Without this, error will happen (not all model/ data on device)\n",
        "X_train = X_train.to(device)\n",
        "X_test = X_test.to(device)\n",
        "y_train = y_train.to(device)\n",
        "y_test = y_test.to(device)\n",
        "\n",
        "for epoch in range(epochs):\n",
        "  ###  TRAINING\n",
        "  model_1.train()\n",
        "\n",
        "  y_pred = model_1(X_train)\n",
        "  loss = loss_fn(y_pred, y_train)\n",
        "  optimizer.zero_grad()\n",
        "  loss.backward()\n",
        "  optimizer.step()\n",
        "\n",
        "  ### TESTING\n",
        "  if epoch % 100 == 0:\n",
        "    model_1.eval()\n",
        "    with torch.inference_mode():\n",
        "      test_pred = model_1(X_test)\n",
        "      test_loss = loss_fn(test_pred, y_test)\n",
        "\n",
        "    print(f\"Epoch: {epoch} | Train Loss: {loss} | Test Loss: {test_loss}\")"
      ],
      "metadata": {
        "colab": {
          "base_uri": "https://localhost:8080/"
        },
        "id": "6SBR89qUUPwQ",
        "outputId": "f245b6e2-7e88-43bd-c43e-aadad22d282f"
      },
      "execution_count": null,
      "outputs": [
        {
          "output_type": "stream",
          "name": "stdout",
          "text": [
            "Epoch: 0 | Train Loss: 0.7451778650283813 | Test Loss: 1.2639763355255127\n",
            "Epoch: 100 | Train Loss: 0.14618417620658875 | Test Loss: 0.3784943222999573\n",
            "Epoch: 200 | Train Loss: 0.10941097885370255 | Test Loss: 0.25489383935928345\n",
            "Epoch: 300 | Train Loss: 0.07506971061229706 | Test Loss: 0.17491653561592102\n",
            "Epoch: 400 | Train Loss: 0.04072467237710953 | Test Loss: 0.09425231069326401\n",
            "Epoch: 500 | Train Loss: 0.006384828127920628 | Test Loss: 0.014274954795837402\n",
            "Epoch: 600 | Train Loss: 0.0075493911281228065 | Test Loss: 0.0013772889506071806\n",
            "Epoch: 700 | Train Loss: 0.0075493911281228065 | Test Loss: 0.0013772889506071806\n",
            "Epoch: 800 | Train Loss: 0.0075493911281228065 | Test Loss: 0.0013772889506071806\n",
            "Epoch: 900 | Train Loss: 0.0075493911281228065 | Test Loss: 0.0013772889506071806\n"
          ]
        }
      ]
    },
    {
      "cell_type": "code",
      "source": [
        "model_1.state_dict()"
      ],
      "metadata": {
        "colab": {
          "base_uri": "https://localhost:8080/"
        },
        "id": "hTfOMlkvUPtq",
        "outputId": "fd8839b7-3cd1-46b9-9d1f-6c4901ca534b"
      },
      "execution_count": null,
      "outputs": [
        {
          "output_type": "execute_result",
          "data": {
            "text/plain": [
              "OrderedDict([('linear_layer.weight', tensor([[-0.2909]])),\n",
              "             ('linear_layer.bias', tensor([0.5040]))])"
            ]
          },
          "metadata": {},
          "execution_count": 57
        }
      ]
    },
    {
      "cell_type": "code",
      "source": [
        "model_1.eval()\n",
        "\n",
        "with torch.inference_mode():\n",
        "  y_preds = model_1(X_test)\n",
        "y_preds - y_test"
      ],
      "metadata": {
        "colab": {
          "base_uri": "https://localhost:8080/"
        },
        "id": "BqrWpT_hUPq_",
        "outputId": "08191fbe-606a-44bc-f4ea-fe28ab46a507"
      },
      "execution_count": null,
      "outputs": [
        {
          "output_type": "execute_result",
          "data": {
            "text/plain": [
              "tensor([[0.0113],\n",
              "        [0.0115],\n",
              "        [0.0116],\n",
              "        [0.0118],\n",
              "        [0.0120],\n",
              "        [0.0122],\n",
              "        [0.0124],\n",
              "        [0.0125],\n",
              "        [0.0127],\n",
              "        [0.0129]])"
            ]
          },
          "metadata": {},
          "execution_count": 58
        }
      ]
    },
    {
      "cell_type": "code",
      "source": [
        "plot_preds(predictions=y_preds)"
      ],
      "metadata": {
        "colab": {
          "base_uri": "https://localhost:8080/",
          "height": 599
        },
        "id": "RfEmoBn9YObO",
        "outputId": "a0db8df6-a9b7-4ae1-efed-d5d3666624b1"
      },
      "execution_count": null,
      "outputs": [
        {
          "output_type": "display_data",
          "data": {
            "text/plain": [
              "<Figure size 1000x700 with 1 Axes>"
            ],
            "image/png": "[encoded data removed]"
          },
          "metadata": {}
        }
      ]
    },
    {
      "cell_type": "code",
      "source": [],
      "metadata": {
        "id": "gdUBXLG6YXFn"
      },
      "execution_count": null,
      "outputs": []
    }
  ]
}